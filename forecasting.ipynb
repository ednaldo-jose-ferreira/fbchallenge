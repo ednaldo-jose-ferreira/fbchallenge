{
  "nbformat": 4,
  "nbformat_minor": 0,
  "metadata": {
    "colab": {
      "name": "forecasting.ipynb",
      "provenance": [],
      "authorship_tag": "ABX9TyOjCiGVTI85YGL7EPPc52oL",
      "include_colab_link": true
    },
    "kernelspec": {
      "name": "python3",
      "display_name": "Python 3"
    }
  },
  "cells": [
    {
      "cell_type": "markdown",
      "metadata": {
        "id": "view-in-github",
        "colab_type": "text"
      },
      "source": [
        "<a href=\"https://colab.research.google.com/github/ednaldo-jose-ferreira/fbchallenge/blob/main/forecasting.ipynb\" target=\"_parent\"><img src=\"https://colab.research.google.com/assets/colab-badge.svg\" alt=\"Open In Colab\"/></a>"
      ]
    },
    {
      "cell_type": "code",
      "metadata": {
        "id": "xVeAc_DUKYFK"
      },
      "source": [
        "1+1/3"
      ],
      "execution_count": null,
      "outputs": []
    }
  ]
}